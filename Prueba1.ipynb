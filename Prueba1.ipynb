{
 "cells": [
  {
   "cell_type": "code",
   "execution_count": 1,
   "id": "ca6e0977",
   "metadata": {},
   "outputs": [
    {
     "data": {
      "text/plain": [
       "' Agregado de comentarios para generar cambios en el documento de prueba'"
      ]
     },
     "execution_count": 1,
     "metadata": {},
     "output_type": "execute_result"
    }
   ],
   "source": [
    "# Este es un archivo de prueba para tarea M34 AHORA CON UN CAMBIO PARA REALIZAR PULL MODIFICADO EN GITHUB\n",
    "\n",
    "\"\"\" Agregado de comentarios para generar cambios en el documento de prueba\"\"\""
   ]
  },
  {
   "cell_type": "code",
   "execution_count": null,
   "id": "49bde576",
   "metadata": {},
   "outputs": [],
   "source": [
    "# se agregan mas textos para generar cambios de prueba\n",
    "a=1\n",
    "b=2\n",
    "c=3"
   ]
  }
 ],
 "metadata": {
  "kernelspec": {
   "display_name": "base",
   "language": "python",
   "name": "python3"
  },
  "language_info": {
   "codemirror_mode": {
    "name": "ipython",
    "version": 3
   },
   "file_extension": ".py",
   "mimetype": "text/x-python",
   "name": "python",
   "nbconvert_exporter": "python",
   "pygments_lexer": "ipython3",
   "version": "3.13.2"
  }
 },
 "nbformat": 4,
 "nbformat_minor": 5
}
